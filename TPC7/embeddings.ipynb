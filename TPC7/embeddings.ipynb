{
 "cells": [
  {
   "cell_type": "code",
   "execution_count": 2,
   "id": "1b96271c",
   "metadata": {},
   "outputs": [
    {
     "name": "stdout",
     "output_type": "stream",
     "text": [
      "1034330\n"
     ]
    }
   ],
   "source": [
    "import re\n",
    "from PyPDF2 import PdfReader\n",
    "from nltk.corpus import stopwords\n",
    "\n",
    "basic_stopwords = set(stopwords.words('portuguese'))\n",
    "\n",
    "def simple_tokenize(text):\n",
    "    text = text.lower()\n",
    "    text = re.sub(r'[^a-zA-ZáéíóúàèìòùãõâêîôûçÁÉÍÓÚÀÈÌÒÙÃÕÂÊÎÔÛÇ\\s]', '', text)\n",
    "    words = text.split()\n",
    "    return [word for word in words if word not in basic_stopwords and len(word) > 1]\n",
    "\n",
    "pdf_path = \"./data/harry_potter.pdf\"\n",
    "reader = PdfReader(pdf_path)\n",
    "raw_text = \"\"\n",
    "for page in reader.pages:\n",
    "    raw_text += page.extract_text() + \" \"\n",
    "\n",
    "tokens_simple = simple_tokenize(raw_text)\n",
    "print(len(tokens_simple))"
   ]
  },
  {
   "cell_type": "code",
   "execution_count": 3,
   "id": "01e5c2fa",
   "metadata": {},
   "outputs": [],
   "source": [
    "grouped_sentences = [tokens_simple[i:i+20] for i in range(0, len(tokens_simple), 20)]\n",
    "from gensim.models import Word2Vec\n",
    "\n",
    "model = Word2Vec(grouped_sentences,vector_size=100, window=5, min_count=1, sg=1, epochs=5, workers=3)"
   ]
  },
  {
   "cell_type": "code",
   "execution_count": 4,
   "id": "7e736c5c",
   "metadata": {},
   "outputs": [
    {
     "data": {
      "text/plain": [
       "[('xenophilius', 0.766045868396759),\n",
       " ('he', 0.7636544108390808),\n",
       " ('desperately', 0.7593846321105957),\n",
       " ('automatically', 0.7570350170135498),\n",
       " ('hopefully', 0.7515618801116943),\n",
       " ('apprehensively', 0.7483475208282471),\n",
       " ('miserably', 0.7480874061584473),\n",
       " ('abruptly', 0.7471303939819336),\n",
       " ('tensely', 0.7467842102050781),\n",
       " ('breathlessly', 0.7467113137245178)]"
      ]
     },
     "execution_count": 4,
     "metadata": {},
     "output_type": "execute_result"
    }
   ],
   "source": [
    "model.wv.most_similar('harry')"
   ]
  },
  {
   "cell_type": "code",
   "execution_count": 5,
   "id": "c8e9020a",
   "metadata": {},
   "outputs": [
    {
     "data": {
      "text/plain": [
       "[('colin', 0.7618408203125),\n",
       " ('spew', 0.7420374751091003),\n",
       " ('anxiously', 0.7308262586593628),\n",
       " ('fervently', 0.7290478944778442),\n",
       " ('mclaggen', 0.727214515209198),\n",
       " ('hastily', 0.7204201221466064),\n",
       " ('indignantly', 0.7202587723731995),\n",
       " ('cho', 0.7196760773658752),\n",
       " ('ginny', 0.7161173820495605),\n",
       " ('neville', 0.715774655342102)]"
      ]
     },
     "execution_count": 5,
     "metadata": {},
     "output_type": "execute_result"
    }
   ],
   "source": [
    "model.wv.most_similar('ron')"
   ]
  },
  {
   "cell_type": "code",
   "execution_count": 6,
   "id": "237b5254",
   "metadata": {},
   "outputs": [
    {
     "data": {
      "text/plain": [
       "[('cho', 0.7037914395332336),\n",
       " ('luna', 0.6934125423431396),\n",
       " ('grumpily', 0.6907237768173218),\n",
       " ('colin', 0.6868577003479004),\n",
       " ('amazed', 0.68583744764328),\n",
       " ('wow', 0.6852368712425232),\n",
       " ('irritably', 0.6847140192985535),\n",
       " ('ron', 0.6826745867729187),\n",
       " ('awkwardly', 0.6818283796310425),\n",
       " ('suspiciously', 0.6817929744720459)]"
      ]
     },
     "execution_count": 6,
     "metadata": {},
     "output_type": "execute_result"
    }
   ],
   "source": [
    "model.wv.most_similar('hermione')"
   ]
  },
  {
   "cell_type": "code",
   "execution_count": 7,
   "id": "51d1da4b",
   "metadata": {},
   "outputs": [
    {
     "data": {
      "text/plain": [
       "[('norris', 0.8150736093521118),\n",
       " ('figg', 0.7898201942443848),\n",
       " ('cattermole', 0.7841224670410156),\n",
       " ('cole', 0.7785365581512451),\n",
       " ('mrs', 0.7756991982460022),\n",
       " ('bill', 0.7704728245735168),\n",
       " ('bagman', 0.7701351642608643),\n",
       " ('fleur', 0.7492802143096924),\n",
       " ('weasleys', 0.7465168833732605),\n",
       " ('percy', 0.7382440567016602)]"
      ]
     },
     "execution_count": 7,
     "metadata": {},
     "output_type": "execute_result"
    }
   ],
   "source": [
    "model.wv.most_similar('weasley')"
   ]
  }
 ],
 "metadata": {
  "kernelspec": {
   "display_name": "SI",
   "language": "python",
   "name": "python3"
  },
  "language_info": {
   "codemirror_mode": {
    "name": "ipython",
    "version": 3
   },
   "file_extension": ".py",
   "mimetype": "text/x-python",
   "name": "python",
   "nbconvert_exporter": "python",
   "pygments_lexer": "ipython3",
   "version": "3.12.4"
  }
 },
 "nbformat": 4,
 "nbformat_minor": 5
}
